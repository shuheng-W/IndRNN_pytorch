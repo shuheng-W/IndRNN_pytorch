{
  "nbformat": 4,
  "nbformat_minor": 0,
  "metadata": {
    "colab": {
      "name": "Untitled3.ipynb",
      "version": "0.3.2",
      "views": {},
      "default_view": {},
      "provenance": [],
      "collapsed_sections": []
    },
    "kernelspec": {
      "name": "python3",
      "display_name": "Python 3"
    },
    "accelerator": "GPU"
  },
  "cells": [
    {
      "metadata": {
        "id": "b8Q7e2nPFCdu",
        "colab_type": "code",
        "colab": {
          "autoexec": {
            "startup": false,
            "wait_interval": 0
          },
          "base_uri": "https://localhost:8080/",
          "height": 157
        },
        "outputId": "c9c36fd0-bf79-4449-8d41-4662e42d1235",
        "executionInfo": {
          "status": "ok",
          "timestamp": 1523152029244,
          "user_tz": -480,
          "elapsed": 57125,
          "user": {
            "displayName": "王珂",
            "photoUrl": "https://lh3.googleusercontent.com/a/default-user=s128",
            "userId": "104789575802809040155"
          }
        }
      },
      "cell_type": "code",
      "source": [
        "!pip3 install http://download.pytorch.org/whl/cu90/torch-0.3.0-cp36-cp36m-linux_x86_64.whl"
      ],
      "execution_count": 1,
      "outputs": [
        {
          "output_type": "stream",
          "text": [
            "Collecting torch==0.3.0 from http://download.pytorch.org/whl/cu90/torch-0.3.0-cp36-cp36m-linux_x86_64.whl\n",
            "  Downloading http://download.pytorch.org/whl/cu90/torch-0.3.0-cp36-cp36m-linux_x86_64.whl (632.9MB)\n",
            "\u001b[K    83% |██████████████████████████▋     | 526.8MB 48.2MB/s eta 0:00:03"
          ],
          "name": "stdout"
        },
        {
          "output_type": "stream",
          "text": [
            "\u001b[K    100% |████████████████████████████████| 632.9MB 14.3MB/s \n",
            "\u001b[?25hRequirement already satisfied: numpy in /usr/local/lib/python3.6/dist-packages (from torch==0.3.0)\n",
            "Requirement already satisfied: pyyaml in /usr/local/lib/python3.6/dist-packages (from torch==0.3.0)\n",
            "Installing collected packages: torch\n",
            "Successfully installed torch-0.3.0\n"
          ],
          "name": "stdout"
        }
      ]
    },
    {
      "metadata": {
        "id": "FMp5mtOZMz9H",
        "colab_type": "code",
        "colab": {
          "autoexec": {
            "startup": false,
            "wait_interval": 0
          }
        }
      },
      "cell_type": "code",
      "source": [
        "import torch as T\n",
        "from torch import nn\n",
        "import torch.nn.functional as F\n",
        "from __future__ import unicode_literals,print_function,division\n",
        "from io import open\n",
        "import unicodedata\n",
        "import string\n",
        "import re\n",
        "import random\n",
        "from torch.autograd import Variable\n",
        "from torch import optim\n",
        "from torch.nn import Parameter\n",
        "import math"
      ],
      "execution_count": 0,
      "outputs": []
    },
    {
      "metadata": {
        "id": "jHXM_HFsOlTX",
        "colab_type": "code",
        "colab": {
          "autoexec": {
            "startup": false,
            "wait_interval": 0
          },
          "base_uri": "https://localhost:8080/",
          "height": 35
        },
        "outputId": "98117b73-eeff-4f76-ab35-119e80747ca7",
        "executionInfo": {
          "status": "ok",
          "timestamp": 1523156539870,
          "user_tz": -480,
          "elapsed": 1168,
          "user": {
            "displayName": "王珂",
            "photoUrl": "https://lh3.googleusercontent.com/a/default-user=s128",
            "userId": "104789575802809040155"
          }
        }
      },
      "cell_type": "code",
      "source": [
        "use_cuda = T.cuda.is_available()\n",
        "# use_cuda=False\n",
        "print(use_cuda)"
      ],
      "execution_count": 4,
      "outputs": [
        {
          "output_type": "stream",
          "text": [
            "True\n"
          ],
          "name": "stdout"
        }
      ]
    },
    {
      "metadata": {
        "id": "_RVVlVmM-5Cc",
        "colab_type": "code",
        "colab": {
          "autoexec": {
            "startup": false,
            "wait_interval": 0
          },
          "base_uri": "https://localhost:8080/",
          "height": 579
        },
        "outputId": "8f3b67be-1b8c-4e06-8f9d-c885052c6058",
        "executionInfo": {
          "status": "ok",
          "timestamp": 1523155979855,
          "user_tz": -480,
          "elapsed": 3588,
          "user": {
            "displayName": "王珂",
            "photoUrl": "https://lh3.googleusercontent.com/a/default-user=s128",
            "userId": "104789575802809040155"
          }
        }
      },
      "cell_type": "code",
      "source": [
        "!wget https://download.pytorch.org/tutorial/data.zip;unzip data.zip"
      ],
      "execution_count": 55,
      "outputs": [
        {
          "output_type": "stream",
          "text": [
            "--2018-04-08 02:52:58--  https://download.pytorch.org/tutorial/data.zip\n",
            "Resolving download.pytorch.org (download.pytorch.org)... 52.85.35.222, 52.85.35.58, 52.85.35.24, ...\n",
            "Connecting to download.pytorch.org (download.pytorch.org)|52.85.35.222|:443... connected.\n",
            "HTTP request sent, awaiting response... 200 OK\n",
            "Length: 2882130 (2.7M) [application/zip]\n",
            "Saving to: ‘data.zip’\n",
            "\n",
            "data.zip            100%[===================>]   2.75M  3.83MB/s    in 0.7s    \n",
            "\n",
            "2018-04-08 02:52:59 (3.83 MB/s) - ‘data.zip’ saved [2882130/2882130]\n",
            "\n",
            "Archive:  data.zip\n",
            "   creating: data/\n",
            "  inflating: data/eng-fra.txt        \n",
            "   creating: data/names/\n",
            "  inflating: data/names/Arabic.txt   \n",
            "  inflating: data/names/Chinese.txt  \n",
            "  inflating: data/names/Czech.txt    \n",
            "  inflating: data/names/Dutch.txt    \n",
            "  inflating: data/names/English.txt  \n",
            "  inflating: data/names/French.txt   \n",
            "  inflating: data/names/German.txt   \n",
            "  inflating: data/names/Greek.txt    \n",
            "  inflating: data/names/Irish.txt    \n",
            "  inflating: data/names/Italian.txt  \n",
            "  inflating: data/names/Japanese.txt  \n",
            "  inflating: data/names/Korean.txt   \n",
            "  inflating: data/names/Polish.txt   \n",
            "  inflating: data/names/Portuguese.txt  \n",
            "  inflating: data/names/Russian.txt  \n",
            "  inflating: data/names/Scottish.txt  \n",
            "  inflating: data/names/Spanish.txt  \n",
            "  inflating: data/names/Vietnamese.txt  \n"
          ],
          "name": "stdout"
        }
      ]
    },
    {
      "metadata": {
        "id": "mi7G8OOmO4Vm",
        "colab_type": "code",
        "colab": {
          "autoexec": {
            "startup": false,
            "wait_interval": 0
          }
        }
      },
      "cell_type": "code",
      "source": [
        "SOS_TOKEN = 0 \n",
        "EOS_TOKEN = 1\n",
        "class Lang:\n",
        "  def __init__(self,name):\n",
        "    self.name = name\n",
        "    self.word2index = {}\n",
        "    self.word2count = {}\n",
        "    self.index2word = {'0':\"SOS\",1:\"EOS\"}\n",
        "    self.n_words = 2\n",
        "  def addSentence(self,sentence):\n",
        "    for word in sentence.split(\" \"):\n",
        "      self.addWord(word)\n",
        "  \n",
        "  def addWord(self,word):\n",
        "    if word not in self.word2index:\n",
        "      self.word2index[word] = self.n_words\n",
        "      self.word2count[word] = 1\n",
        "      self.index2word[self.n_words] = word\n",
        "      self.n_words += 1\n",
        "    else:\n",
        "      self.word2count[word] += 1\n",
        "\n",
        "      \n",
        "def unicode2ascii(s):\n",
        "  return ''.join(c for c in unicodedata.normalize('NFD',s) if unicodedata.category(c) !='Mn')\n",
        "\n",
        "def normalizeString(s):\n",
        "  s = unicode2ascii(s.lower().strip())\n",
        "  s = re.sub(r\"([.!?])\",r\"\\1\",s)\n",
        "  s = re.sub(r\"[^a-zA-Z.!?]+\",r\" \",s)\n",
        "  return s"
      ],
      "execution_count": 0,
      "outputs": []
    },
    {
      "metadata": {
        "id": "srFP6gcZSIwE",
        "colab_type": "code",
        "colab": {
          "autoexec": {
            "startup": false,
            "wait_interval": 0
          }
        }
      },
      "cell_type": "code",
      "source": [
        "def readLangs(lang1,lang2,reverse = False):\n",
        "  print(\"Reading lines...\")\n",
        "  lines = open('data/%s-%s.txt'%(lang1,lang2),encoding=\"utf8\").read().strip().split('\\n')\n",
        "  pairs = [[normalizeString(s) for s in l.split(\"\\t\")] for l in lines]\n",
        "  if reverse:\n",
        "    pairs = [list(reversed(p)) for p in pairs]\n",
        "    input_lang = Lang(lang2)\n",
        "    output_lang = Lang(lang1)\n",
        "  else:\n",
        "    input_lang = Lang(lang2)\n",
        "    output_lang = Lang(lang1)\n",
        "  return input_lang,output_lang,pairs"
      ],
      "execution_count": 0,
      "outputs": []
    },
    {
      "metadata": {
        "id": "LIRFzN6cTM7x",
        "colab_type": "code",
        "colab": {
          "autoexec": {
            "startup": false,
            "wait_interval": 0
          }
        }
      },
      "cell_type": "code",
      "source": [
        "MAX_LENGTH = 10\n",
        "eng_prefixs = (\n",
        "        \"i am \", \"i m \",\n",
        "    \"he is\", \"he s \",\n",
        "    \"she is\", \"she s\",\n",
        "    \"you are\", \"you re \",\n",
        "    \"we are\", \"we re \",\n",
        "    \"they are\", \"they re \"\n",
        ")\n",
        "\n",
        "\n",
        "def filterPair(p):\n",
        "    return len(p[0].split(' ')) < MAX_LENGTH and \\\n",
        "        len(p[1].split(' ')) < MAX_LENGTH and \\\n",
        "        p[1].startswith(eng_prefixs)\n",
        "\n",
        "\n",
        "def filterPairs(pairs):\n",
        "    return [pair for pair in pairs if filterPair(pair)]"
      ],
      "execution_count": 0,
      "outputs": []
    },
    {
      "metadata": {
        "id": "CCKvKwWUTocJ",
        "colab_type": "code",
        "colab": {
          "autoexec": {
            "startup": false,
            "wait_interval": 0
          },
          "base_uri": "https://localhost:8080/",
          "height": 154
        },
        "outputId": "2d538e1f-3a22-49a5-d410-a2869d50e0f7",
        "executionInfo": {
          "status": "ok",
          "timestamp": 1523156562784,
          "user_tz": -480,
          "elapsed": 7330,
          "user": {
            "displayName": "王珂",
            "photoUrl": "https://lh3.googleusercontent.com/a/default-user=s128",
            "userId": "104789575802809040155"
          }
        }
      },
      "cell_type": "code",
      "source": [
        "def prepareData(lang1, lang2, reverse=False):\n",
        "    input_lang, output_lang, pairs = readLangs(lang1, lang2, reverse)\n",
        "    print(\"Read %s sentence pairs\" % len(pairs))\n",
        "    pairs = filterPairs(pairs)\n",
        "    print(\"Trimmed to %s sentence pairs\" % len(pairs))\n",
        "    print(\"Counting words...\")\n",
        "    for pair in pairs:\n",
        "        input_lang.addSentence(pair[0])\n",
        "        output_lang.addSentence(pair[1])\n",
        "    print(\"Counted words:\")\n",
        "    print(input_lang.name, input_lang.n_words)\n",
        "    print(output_lang.name, output_lang.n_words)\n",
        "    return input_lang, output_lang, pairs\n",
        "\n",
        "\n",
        "input_lang, output_lang, pairs = prepareData('eng', 'fra', True)\n",
        "print(random.choice(pairs))"
      ],
      "execution_count": 8,
      "outputs": [
        {
          "output_type": "stream",
          "text": [
            "Reading lines...\n",
            "Read 135842 sentence pairs\n",
            "Trimmed to 11739 sentence pairs\n",
            "Counting words...\n",
            "Counted words:\n",
            "fra 5911\n",
            "eng 3965\n",
            "['je suis desole si je t ai derangee.', 'i m sorry if i disturbed you.']\n"
          ],
          "name": "stdout"
        }
      ]
    },
    {
      "metadata": {
        "id": "xIFyAoyvT65t",
        "colab_type": "code",
        "colab": {
          "autoexec": {
            "startup": false,
            "wait_interval": 0
          }
        }
      },
      "cell_type": "code",
      "source": [
        "class IndRNNCell(nn.Module):\n",
        "  \n",
        "  def __init__(self,input_size,hidden_size,bias=True, nonlinearity='relu', hidden_min_abs = 0, hidden_max_abs = None):\n",
        "    super(IndRNNCell,self).__init__()\n",
        "    self.input_size = input_size\n",
        "    self.hidden_size = hidden_size\n",
        "    self.nonlinearity = nonlinearity\n",
        "    self.hidden_min_abs = hidden_min_abs\n",
        "    self.hidden_max_abs = hidden_max_abs\n",
        "    self.bias = bias \n",
        "    self.weight_ih = Parameter(T.Tensor(hidden_size,input_size))\n",
        "    self.weight_hh = Parameter(T.Tensor(hidden_size))\n",
        "    \n",
        "    if bias :\n",
        "      self.bias_ih = Parameter(T.Tensor(hidden_size))\n",
        "     \n",
        "    else:\n",
        "      self.register_parameter('bias_ih',None)\n",
        "    \n",
        "    self.reset_parameters()\n",
        "  \n",
        "  def reset_parameters(self):\n",
        "    stdv = 1.0 / math.sqrt(self.hidden_size)\n",
        "    \n",
        "    for name,weight in self.named_parameters():\n",
        "      if 'bias' in name:\n",
        "        weight.data.zero_()\n",
        "      elif \"weight_hh\" in name:\n",
        "        if self.hidden_max_abs:\n",
        "          stdv_ = self.hidden_max_size\n",
        "        else:\n",
        "          stdv_ = stdv\n",
        "        \n",
        "        weight.data.uniform_(-stdv_,stdv_)\n",
        "      elif \"weight_ih\" in name:\n",
        "        weight.data.normal_(0,0.01)\n",
        "      else:\n",
        "        weight.data.normal_(0,0.01)\n",
        "    \n",
        "    self.check_bounds()\n",
        "  \n",
        "  def check_bounds(self):\n",
        "    \n",
        "    if self.hidden_min_abs:\n",
        "      abs_kernel = T.abs(self.weight_hh.data)\n",
        "      min_abs_kernel = T.clamp(abs_kernel,min=self.hidden_min_abs)\n",
        "      \n",
        "      self.weight_hh.data.copy_(\n",
        "        T.mul(T.sign(self.weight_hh.data),min_abs_kernel)\n",
        "      )\n",
        "      \n",
        "    if self.hidden_max_abs:\n",
        "      \n",
        "      self.weight_hh.data.copy_(\n",
        "          T.clamp(self.weight_hh.data,max=self.hidden_max_abs,min=-self.hidden_max_abs)\n",
        "      )      \n",
        "  \n",
        "  def IndRNNTanhCell(self,input,hidden,w_ih,w_hh,b_ih=None):\n",
        "    hy = F.tanh(F.linear(input,w_ih,b_ih) + F.mul(w_hh,hidden))\n",
        "    return hy\n",
        "  def IndRNNReluCell(self,input,hidden,w_ih,w_hh,b_ih=None):\n",
        "    hy = F.relu(F.linear(input,w_ih,b_ih) + F.mul(w_hh,hidden))\n",
        "    return hy\n",
        "  def forward(self,input,hx):\n",
        "    if self.nonlinearity =='tanh':\n",
        "      func = self.IndRNNTanhCell\n",
        "    elif self.nonlinearity =='relu':\n",
        "      func = self.IndRNNReluCell\n",
        "      \n",
        "    return func(input,hx,self.weight_ih,self.weight_hh,self.bias_ih)\n",
        "  \n",
        "class IndRNN(nn.Module):\n",
        "  \n",
        "    def __init__(self, input_size, hidden_size, n_layer=1, batch_norm=False,\n",
        "                 step_size=None, **kwargs):\n",
        "        super(IndRNN, self).__init__()\n",
        "        self.hidden_size = hidden_size\n",
        "        if batch_norm and step_size is None:\n",
        "            raise Exception(\"Frame wise batch size needs to know the step size\")\n",
        "        self.batch_norm = batch_norm\n",
        "        self.step_size = step_size\n",
        "        self.n_layer = n_layer\n",
        "\n",
        "        cells = []\n",
        "        for i in range(n_layer):\n",
        "            if i == 0:\n",
        "                cells += [IndRNNCell(input_size, hidden_size, **kwargs)]\n",
        "            else:\n",
        "                cells += [IndRNNCell(hidden_size, hidden_size, **kwargs)]\n",
        "        self.cells = nn.ModuleList(cells)\n",
        "\n",
        "        if batch_norm:\n",
        "            bns = []\n",
        "            for i in range(n_layer):\n",
        "                bns += [nn.BatchNorm2d(step_size)]\n",
        "            self.bns = nn.ModuleList(bns)\n",
        "            \n",
        "        \n",
        "        h0 = T.zeros(hidden_size)\n",
        "        self.register_buffer('h0', T.autograd.Variable(h0))\n",
        "\n",
        "\n",
        "    def forward(self, x, hidden=None):                \n",
        "        for i, cell in enumerate(self.cells):\n",
        "            cell.check_bounds()\n",
        "            hx = self.h0.unsqueeze(0).expand(x.size(0), self.hidden_size).contiguous()\n",
        "            outputs = []\n",
        "            for t in range(x.size(1)):\n",
        "                x_t = x[:, t]\n",
        "                hx = cell(x_t, hx)\n",
        "                outputs += [hx]\n",
        "            x = T.stack(outputs, 1)\n",
        "            if self.batch_norm:\n",
        "                x = self.bns[i](x)\n",
        "        return x.squeeze(2)"
      ],
      "execution_count": 0,
      "outputs": []
    },
    {
      "metadata": {
        "id": "hnDJ6ZQXT-fm",
        "colab_type": "code",
        "colab": {
          "autoexec": {
            "startup": false,
            "wait_interval": 0
          }
        }
      },
      "cell_type": "code",
      "source": [
        "rnn = IndRNN(10,20,2)\n",
        "input = Variable(T.randn(5,3,10))\n",
        "h0 = Variable(T.randn(2,3,20))\n",
        "\n",
        "output = rnn(input,h0)\n",
        "\n",
        "print(output)"
      ],
      "execution_count": 0,
      "outputs": []
    },
    {
      "metadata": {
        "id": "wkAaABWvUUyH",
        "colab_type": "code",
        "colab": {
          "autoexec": {
            "startup": false,
            "wait_interval": 0
          }
        }
      },
      "cell_type": "code",
      "source": [
        "class RNNencoder(nn.Module):\n",
        "  def __init__(self,input_size,hidden_size):\n",
        "    super(RNNencoder,self).__init__()\n",
        "    self.hidden_size = hidden_size\n",
        "    self.embedding = nn.Embedding(input_size,hidden_size)\n",
        "    self.gru = IndRNN(self.hidden_size,self.hidden_size)\n",
        "    \n",
        "  def forward(self,input,hidden):\n",
        "    embed = self.embedding(input).view(1,1,-1)\n",
        "    output = embed\n",
        "    \n",
        "    output = self.gru(output,hidden)\n",
        "    return output\n",
        "  def init_hidden(self):\n",
        "    result = Variable(T.zeros(1,1,self.hidden_size))\n",
        "    if use_cuda:\n",
        "      return result.cuda()\n",
        "    else:\n",
        "      return result"
      ],
      "execution_count": 0,
      "outputs": []
    },
    {
      "metadata": {
        "id": "v324c9N7VxYb",
        "colab_type": "code",
        "colab": {
          "autoexec": {
            "startup": false,
            "wait_interval": 0
          }
        }
      },
      "cell_type": "code",
      "source": [
        "class AttenDecoderRNN(nn.Module):\n",
        "  def __init__(self,hidden_size,output_size,dropout = 0.1,max_length = MAX_LENGTH):\n",
        "    super(AttenDecoderRNN,self).__init__()\n",
        "    self.hidden_size = hidden_size\n",
        "    self.output_size = output_size\n",
        "    self.dropout = dropout\n",
        "    self.max_length = max_length\n",
        "    \n",
        "    self.embed = nn.Embedding(self.output_size,self.hidden_size)\n",
        "    self.atten = nn.Linear(self.hidden_size * 2 ,self.max_length)\n",
        "    self.atten_combine = nn.Linear(self.hidden_size*2,self.hidden_size)\n",
        "    self.drop = nn.Dropout(self.dropout)\n",
        "    self.gru = nn.GRU(self.hidden_size,self.hidden_size)\n",
        "    self.out = nn.Linear(self.hidden_size,self.output_size)\n",
        "  def forward(self,input,hidden,encoder_outputs):\n",
        "    embed = self.embed(input).view(1,1,-1)\n",
        "    embed = self.drop(embed)\n",
        "    atten_weights = F.softmax(\n",
        "      self.atten(T.cat((embed[0],hidden[0]),-1)),dim=1\n",
        "    )\n",
        "    atten_applied = T.bmm(atten_weights.unsqueeze(0),encoder_outputs.unsqueeze(0))\n",
        "    \n",
        "    output = T.cat((embed[0],atten_applied[0]),1)\n",
        "    output = self.atten_combine(output).unsqueeze(0)\n",
        "    \n",
        "    outout = F.relu(output)\n",
        "    \n",
        "    output,hidden = self.gru(output,hidden)\n",
        "    output = F.log_softmax(self.out(output[0]),dim=1)\n",
        "    \n",
        "    return output,hidden,atten_weights\n",
        "  def init_hidden(self):\n",
        "    if use_cuda:\n",
        "      return Variable(T.zeros(1,1,self.hidden_size)).cuda()\n",
        "    else:return Variable(T.zeros(1,1,self.hidden_size))"
      ],
      "execution_count": 0,
      "outputs": []
    },
    {
      "metadata": {
        "id": "UGkYNpHpZ6EU",
        "colab_type": "code",
        "colab": {
          "autoexec": {
            "startup": false,
            "wait_interval": 0
          }
        }
      },
      "cell_type": "code",
      "source": [
        "def indexesfromsentence(lang,sentence):\n",
        "#   print(lang.word2index)\n",
        "  return [lang.word2index[word] for word in sentence.split(\" \")]\n",
        "\n",
        "def variablefromsentence(lang,sentence):\n",
        "  indexes = indexesfromsentence(lang,sentence)\n",
        "  indexes.append(EOS_TOKEN)\n",
        "  result = Variable(T.LongTensor(indexes).view(-1,1))\n",
        "  if use_cuda:\n",
        "    return result.cuda()\n",
        "  else:return result\n",
        "\n",
        "def variablefrompair(pair):\n",
        "  input_variable = variablefromsentence(input_lang,pair[0])\n",
        "  target_variable = variablefromsentence(output_lang,pair[1])\n",
        "  return (input_variable,target_variable)\n",
        "\n"
      ],
      "execution_count": 0,
      "outputs": []
    },
    {
      "metadata": {
        "id": "8M0oYTw3BBBO",
        "colab_type": "code",
        "colab": {
          "autoexec": {
            "startup": false,
            "wait_interval": 0
          }
        }
      },
      "cell_type": "code",
      "source": [
        "teacher_forcing_ratio = 0.5\n",
        "\n",
        "def train(input_variable,target_variable,encode,decode,encode_optimizer,decode_optimizer,criterion,max_length=MAX_LENGTH):\n",
        "  encode_hidden = encode.init_hidden()\n",
        "  encode_optimizer.zero_grad()\n",
        "  decode_optimizer.zero_grad()\n",
        "  input_length = input_variable.size()[0]\n",
        "  target_length = target_variable.size()[0]\n",
        "  encode_outputs = Variable(T.zeros(max_length,encode.hidden_size))\n",
        "  encode_outputs = encode_outputs.cuda() if use_cuda else encode_outputs\n",
        "  \n",
        "  loss = 0\n",
        "  \n",
        "  for ei in range(input_length):\n",
        "    encode_output = encode(input_variable[ei],encode_hidden)\n",
        "#     print(encode_output)\n",
        "    encode_outputs[ei] = encode_output[0][0]\n",
        "  \n",
        "  decode_input = Variable(T.LongTensor([[SOS_TOKEN]]))\n",
        "  decode_input = decode_input.cuda() if use_cuda else decode_input\n",
        "  \n",
        "  decode_hidden = decode.init_hidden()\n",
        "  \n",
        "  use_teacher_forcing = True if random.random() < teacher_forcing_ratio else False\n",
        "  \n",
        "  \n",
        "  if use_teacher_forcing:\n",
        "    for di in range(target_length):\n",
        "      decode_output,decode_hidden,decode_attention = decode(decode_input,decode_hidden,encode_outputs)\n",
        "#       print(decode_output[0].size())\n",
        "#       print(target_variable[di].size())\n",
        "      \n",
        "      loss += criterion(decode_output,target_variable[di])\n",
        "      \n",
        "  else:\n",
        "    for di in range(target_length):\n",
        "      decode_output,decode_hidden,decode_attention = decode(decode_input,decode_hidden,encode_outputs)\n",
        "      \n",
        "      topv,topi = decode_output.data.topk(1)\n",
        "      ni = topi[0][0]\n",
        "      \n",
        "      decode_input = Variable(T.LongTensor([[ni]]))\n",
        "      decode_input = decode_input.cuda() if use_cuda else decode_input\n",
        "      \n",
        "      loss += criterion(decode_output,target_variable[di])\n",
        "      \n",
        "      if ni == EOS_TOKEN:\n",
        "        break\n",
        "  loss.backward()\n",
        "  encode_optimizer.step()\n",
        "  decode_optimizer.step()\n",
        "  return loss.data[0] / target_length\n",
        "\n",
        "\n",
        "  \n",
        "  \n",
        "  \n",
        "  \n",
        "  \n",
        "  "
      ],
      "execution_count": 0,
      "outputs": []
    },
    {
      "metadata": {
        "id": "gPqC9f-aE8iQ",
        "colab_type": "code",
        "colab": {
          "autoexec": {
            "startup": false,
            "wait_interval": 0
          }
        }
      },
      "cell_type": "code",
      "source": [
        "import time\n",
        "import math\n",
        "\n",
        "\n",
        "def asMinutes(s):\n",
        "    m = math.floor(s / 60)\n",
        "    s -= m * 60\n",
        "    return '%dm %ds' % (m, s)\n",
        "\n",
        "\n",
        "def timeSince(since, percent):\n",
        "    now = time.time()\n",
        "    s = now - since\n",
        "    es = s / (percent)\n",
        "    rs = es - s\n",
        "    return '%s (- %s)' % (asMinutes(s), asMinutes(rs))"
      ],
      "execution_count": 0,
      "outputs": []
    },
    {
      "metadata": {
        "id": "IvunDFaYFExV",
        "colab_type": "code",
        "colab": {
          "autoexec": {
            "startup": false,
            "wait_interval": 0
          }
        }
      },
      "cell_type": "code",
      "source": [
        "import matplotlib.pyplot as plt\n",
        "import matplotlib.ticker as ticker\n",
        "import numpy as np\n",
        "\n",
        "\n",
        "def showPlot(points):\n",
        "    plt.figure()\n",
        "    fig, ax = plt.subplots()\n",
        "    # this locator puts ticks at regular intervals\n",
        "    loc = ticker.MultipleLocator(base=0.2)\n",
        "    ax.yaxis.set_major_locator(loc)\n",
        "    plt.plot(points)"
      ],
      "execution_count": 0,
      "outputs": []
    },
    {
      "metadata": {
        "id": "w1vWiUvKE94B",
        "colab_type": "code",
        "colab": {
          "autoexec": {
            "startup": false,
            "wait_interval": 0
          }
        }
      },
      "cell_type": "code",
      "source": [
        "def trainIters(encoder, decoder, n_iters, print_every=1000, plot_every=100, learning_rate=0.01):\n",
        "    start = time.time()\n",
        "    plot_losses = []\n",
        "    print_loss_total = 0  # Reset every print_every\n",
        "    plot_loss_total = 0  # Reset every plot_every\n",
        "\n",
        "    encoder_optimizer = optim.SGD(encoder.parameters(), lr=learning_rate)\n",
        "    decoder_optimizer = optim.SGD(decoder.parameters(), lr=learning_rate)\n",
        "    training_pairs = [variablefrompair(random.choice(pairs))\n",
        "                      for i in range(n_iters)]\n",
        "    criterion = nn.NLLLoss()\n",
        "\n",
        "    for iter in range(1, n_iters + 1):\n",
        "        training_pair = training_pairs[iter - 1]\n",
        "        input_variable = training_pair[0]\n",
        "        target_variable = training_pair[1]\n",
        "\n",
        "        loss = train(input_variable, target_variable, encoder,\n",
        "                     decoder, encoder_optimizer, decoder_optimizer, criterion)\n",
        "        print_loss_total += loss\n",
        "        plot_loss_total += loss\n",
        "\n",
        "        if iter % print_every == 0:\n",
        "            print_loss_avg = print_loss_total / print_every\n",
        "            print_loss_total = 0\n",
        "            print('%s (%d %d%%) %.4f' % (timeSince(start, iter / n_iters),\n",
        "                                         iter, iter / n_iters * 100, print_loss_avg))\n",
        "\n",
        "        if iter % plot_every == 0:\n",
        "            plot_loss_avg = plot_loss_total / plot_every\n",
        "            plot_losses.append(plot_loss_avg)\n",
        "            plot_loss_total = 0\n",
        "\n",
        "    showPlot(plot_losses)"
      ],
      "execution_count": 0,
      "outputs": []
    },
    {
      "metadata": {
        "id": "ywAV3Px_FJgE",
        "colab_type": "code",
        "colab": {
          "autoexec": {
            "startup": false,
            "wait_interval": 0
          }
        }
      },
      "cell_type": "code",
      "source": [
        "def evaluate(encoder, decoder, sentence, max_length=MAX_LENGTH):\n",
        "    input_variable = variablefrompair(input_lang, sentence)\n",
        "    input_length = input_variable.size()[0]\n",
        "    encoder_hidden = encoder.initHidden()\n",
        "\n",
        "    encoder_outputs = Variable(torch.zeros(max_length, encoder.hidden_size))\n",
        "    encoder_outputs = encoder_outputs.cuda() if use_cuda else encoder_outputs\n",
        "\n",
        "    for ei in range(input_length):\n",
        "        encoder_output, encoder_hidden = encoder(input_variable[ei],\n",
        "                                                 encoder_hidden)\n",
        "        encoder_outputs[ei] = encoder_outputs[ei] + encoder_output[0][0]\n",
        "\n",
        "    decoder_input = Variable(torch.LongTensor([[SOS_token]]))  # SOS\n",
        "    decoder_input = decoder_input.cuda() if use_cuda else decoder_input\n",
        "\n",
        "    decoder_hidden = encoder_hidden\n",
        "\n",
        "    decoded_words = []\n",
        "    decoder_attentions = torch.zeros(max_length, max_length)\n",
        "\n",
        "    for di in range(max_length):\n",
        "        decoder_output, decoder_hidden, decoder_attention = decoder(\n",
        "            decoder_input, decoder_hidden, encoder_outputs)\n",
        "        decoder_attentions[di] = decoder_attention.data\n",
        "        topv, topi = decoder_output.data.topk(1)\n",
        "        ni = topi[0][0]\n",
        "        if ni == EOS_token:\n",
        "            decoded_words.append('<EOS>')\n",
        "            break\n",
        "        else:\n",
        "            decoded_words.append(output_lang.index2word[ni])\n",
        "\n",
        "        decoder_input = Variable(torch.LongTensor([[ni]]))\n",
        "        decoder_input = decoder_input.cuda() if use_cuda else decoder_input\n",
        "\n",
        "    return decoded_words, decoder_attentions[:di + 1]"
      ],
      "execution_count": 0,
      "outputs": []
    },
    {
      "metadata": {
        "id": "UWtYQJA_FNea",
        "colab_type": "code",
        "colab": {
          "autoexec": {
            "startup": false,
            "wait_interval": 0
          }
        }
      },
      "cell_type": "code",
      "source": [
        "def evaluateRandomly(encoder, decoder, n=10):\n",
        "    for i in range(n):\n",
        "        pair = random.choice(pairs)\n",
        "        print('>', pair[0])\n",
        "        print('=', pair[1])\n",
        "        output_words, attentions = evaluate(encoder, decoder, pair[0])\n",
        "        output_sentence = ' '.join(output_words)\n",
        "        print('<', output_sentence)\n",
        "        print('')"
      ],
      "execution_count": 0,
      "outputs": []
    },
    {
      "metadata": {
        "id": "EfuwkCGXFNdC",
        "colab_type": "code",
        "colab": {
          "autoexec": {
            "startup": false,
            "wait_interval": 0
          },
          "base_uri": "https://localhost:8080/",
          "height": 657
        },
        "outputId": "bf3d43ae-5f6f-4da7-e369-535c6c46fa4a",
        "executionInfo": {
          "status": "ok",
          "timestamp": 1523160890013,
          "user_tz": -480,
          "elapsed": 4032095,
          "user": {
            "displayName": "王珂",
            "photoUrl": "https://lh3.googleusercontent.com/a/default-user=s128",
            "userId": "104789575802809040155"
          }
        }
      },
      "cell_type": "code",
      "source": [
        "hidden_size = 256\n",
        "encoder1 = RNNencoder(input_lang.n_words, hidden_size)\n",
        "attn_decoder1 = AttenDecoderRNN(hidden_size, output_lang.n_words, dropout=0.1)\n",
        "\n",
        "\n",
        "if use_cuda:\n",
        "    encoder1 = encoder1.cuda()\n",
        "    attn_decoder1 = attn_decoder1.cuda()\n",
        "\n",
        "trainIters(encoder1, attn_decoder1, 75000, print_every=5000)"
      ],
      "execution_count": 23,
      "outputs": [
        {
          "output_type": "stream",
          "text": [
            "/usr/local/lib/python3.6/dist-packages/ipykernel_launcher.py:28: UserWarning: RNN module weights are not part of single contiguous chunk of memory. This means they need to be compacted at every call, possibly greately increasing memory usage. To compact weights again call flatten_parameters().\n"
          ],
          "name": "stderr"
        },
        {
          "output_type": "stream",
          "text": [
            "4m 37s (- 64m 40s) (5000 6%) 3.3563\n",
            "9m 5s (- 59m 7s) (10000 13%) 3.0449\n",
            "13m 40s (- 54m 42s) (15000 20%) 2.8377\n",
            "18m 19s (- 50m 23s) (20000 26%) 2.7403\n",
            "22m 42s (- 45m 25s) (25000 33%) 3.4349\n",
            "27m 11s (- 40m 46s) (30000 40%) 3.6851\n",
            "31m 40s (- 36m 12s) (35000 46%) 3.4347\n",
            "36m 6s (- 31m 35s) (40000 53%) 3.3165\n",
            "40m 31s (- 27m 0s) (45000 60%) 3.3073\n",
            "44m 54s (- 22m 27s) (50000 66%) 3.2789\n",
            "49m 19s (- 17m 56s) (55000 73%) 3.2143\n",
            "53m 44s (- 13m 26s) (60000 80%) 3.1343\n",
            "58m 11s (- 8m 57s) (65000 86%) 3.1213\n",
            "62m 37s (- 4m 28s) (70000 93%) 3.0874\n",
            "67m 6s (- 0m 0s) (75000 100%) 3.0742\n"
          ],
          "name": "stdout"
        },
        {
          "output_type": "display_data",
          "data": {
            "text/plain": [
              "<matplotlib.figure.Figure at 0x7fc9f825cb38>"
            ]
          },
          "metadata": {
            "tags": []
          }
        },
        {
          "output_type": "display_data",
          "data": {
            "image/png": "[encoded data removed]",
            "text/plain": [
              "<matplotlib.figure.Figure at 0x7fc9a5b3a4e0>"
            ]
          },
          "metadata": {
            "tags": []
          }
        }
      ]
    }
  ]
}